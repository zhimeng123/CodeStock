{
 "cells": [
  {
   "cell_type": "code",
   "execution_count": 4,
   "id": "f2d98b18",
   "metadata": {},
   "outputs": [
    {
     "name": "stdout",
     "output_type": "stream",
     "text": [
      "40\n",
      "3\n"
     ]
    }
   ],
   "source": [
    "def FunX(x):\n",
    "    def FunY(y):\n",
    "        return x*y\n",
    "    return FunY\n",
    "i = FunX(8) \n",
    "# print(i)          <function FunX.<locals>.FunY at 0x000001AB00077510>\n",
    "# print(type(i))    <class 'function'>\n",
    "\n",
    "# 两种调用方法\n",
    "print(i(5))\n",
    "print(FunX(1)(3))"
   ]
  },
  {
   "cell_type": "code",
   "execution_count": null,
   "id": "881ccffd",
   "metadata": {},
   "outputs": [],
   "source": []
  },
  {
   "cell_type": "code",
   "execution_count": null,
   "id": "56a1af74",
   "metadata": {},
   "outputs": [],
   "source": []
  }
 ],
 "metadata": {
  "kernelspec": {
   "display_name": "Python 3 (ipykernel)",
   "language": "python",
   "name": "python3"
  },
  "language_info": {
   "codemirror_mode": {
    "name": "ipython",
    "version": 3
   },
   "file_extension": ".py",
   "mimetype": "text/x-python",
   "name": "python",
   "nbconvert_exporter": "python",
   "pygments_lexer": "ipython3",
   "version": "3.9.13"
  }
 },
 "nbformat": 4,
 "nbformat_minor": 5
}
